{
 "cells": [
  {
   "cell_type": "markdown",
   "metadata": {},
   "source": [
    "## Αναγνώρηση προτύπων\n",
    "### 2η Εργασία\n",
    "Κωτούλας Εμμανουήλ 9697\n"
   ]
  },
  {
   "cell_type": "code",
   "execution_count": 40,
   "metadata": {},
   "outputs": [],
   "source": [
    "# αρχικά γίνονται imported οι βιβλιοθήκες που θα χρειαστούν\n",
    "import numpy as np\n",
    "import math\n",
    "import matplotlib.pyplot as plt"
   ]
  },
  {
   "cell_type": "code",
   "execution_count": 41,
   "metadata": {},
   "outputs": [],
   "source": [
    "# ορίζονται 2 πίνακες με τα δεδομένα που δίνονται στην εκφώνηση\n",
    "\n",
    "D1 = np.array([2.8, -0.4, -0.8, 2.3, -0.3, 3.6, 4.1])\n",
    "\n",
    "D2 = np.array([-4.5, -3.4, -3.1, -3.0, -2.3])\n",
    "\n",
    "# αυτό το θεωρώ περιττό ωστόσο για να παρομοιάσω ένα συνηθισμένο σύστημα έκανα έναν πίνακα με όλα τα δεδομένα και έναν πίνακα με labels\n",
    "\n",
    "D = np.append(D1,D2)\n",
    "\n",
    "# labels ανάλογα με το που ανήκει\n",
    "Dlabels = []\n",
    "\n",
    "for d in D :\n",
    "    if d in D1 :\n",
    "        Dlabels.append(0)\n",
    "    elif d in D2 :\n",
    "        Dlabels.append(1)\n"
   ]
  },
  {
   "cell_type": "markdown",
   "metadata": {},
   "source": [
    "### Μέρος Α\n",
    "Όπως προτείνεται και στην εκφώνηση δημιουργήθηκαν 2 κλάσεις, μία για κάθε μεθοδολογία εκτίμισης παραμέτρων.  \n",
    "\n",
    "Η πρώτη, MaxLikeEstimationClassifier, είναι μια κλάση που υλοποιεί την εκτίμηση μέγιστης πιθανοφάνειας.\n",
    "Περιέχει 2 μεταβλητές για την αποθήκευση των εκτιμήσεων μετά το training.  \n",
    "\n",
    "Οι συναρτήσεις p και pProd είναι υπεύθυνες για τον υπολογισμό της εξίσωσης που δίνεται στην εκφώνηση, η p για μία τιμή x και θ (theta) και η pProd για ένα διάνυσμα D.  \n",
    "\n",
    "Η plotLogs δημιουργεί τα plots που ζητούνται στο πρώτο ερώτημα.  \n",
    "\n",
    "Η fit καλεί την pProd για ένα range από theta και βρίσκει αυτό για το οποίο έχει μέγιστο product για το διάνυσμα D. Αυτό γίνεται και για τα δύο D, τα D1 και D2.  \n",
    "\n",
    "Τέλος υπάρχουν οι predict και η predictKnown οι οποίες εκτελουν τις ίδιες πράξεις ώστε να γίνει το classification σύμφωνα με την συνάρτηση διάκρισης που δίνεται στην εκφώνηση\n",
    "ωστόσο η predictKnown χρησιμοποιείται εδώ για ευκολία εκτύπωσης των αποτελεσμάτων (με διαφορετικά χρώματα πιο εύκολα) καθώς ήδη γνωρίζουμε το classification των δεδομένων και θέλουμε\n",
    "να δούμε πόσο καλή δουλειά κάνει. Για ένα πραγματικά άγνωστο διάνυσμα D χρησιμοποιείται η predict."
   ]
  },
  {
   "cell_type": "code",
   "execution_count": 42,
   "metadata": {},
   "outputs": [],
   "source": [
    "class MaxLikeEstimationClassifier:\n",
    "\n",
    "    # initialization of the variables theta1 and 2\n",
    "    def __init__(self):\n",
    "        self.theta1 = 0\n",
    "        self.theta2 = 0\n",
    "\n",
    "    # Η συνάρτηση αυτή υπολογίζει την τιμή της πυκνότητας πιθανότητας που βρήκε ο συνάδελφος\n",
    "    def p(self, x, theta):\n",
    "        return (1/math.pi)*(1/(1+ (x-theta)*(x-theta) ))\n",
    "\n",
    "    # Η συνάρτηση αυτή υπολογίζει την τιμή της p για ένα διάνυσμα D εκτελώντας τον πολλαπλασιασμό που απαιτείται απο την θεωρία\n",
    "    def pProd(self, D, theta):\n",
    "        product = 1\n",
    "        for x in D :\n",
    "            product = product*self.p(x,theta)\n",
    "        return product\n",
    "    \n",
    "    # Η συνάρτηση αυτή υπολογίζει τις 2 γραφικές που απαιτούνται στο πρώτο ερώτημα καλώντας την pProd για διάφορα θ\n",
    "    def plotLogs(self, D, Dlabels,theta):\n",
    "\n",
    "        # ορίζονται 2 άδειοι πίνακες για τις τιμές των δύο    \n",
    "        d1Values = []\n",
    "        d2Values = []\n",
    "\n",
    "        # με τον ίδιο τρόπο που έγινε το encoding των labels γίνεται τώρα το decoding για αυτό το θεώρησα περιττό με τον τρόπο που υλοποίησα τον κώδικα μου\n",
    "        D1 = []\n",
    "        D2 = []\n",
    "\n",
    "        for d in range(len(D)) :\n",
    "            if Dlabels[d] == 0 :\n",
    "                D1.append(D[d])\n",
    "            else :\n",
    "                D2.append(D[d])\n",
    "\n",
    "        # μια for διατρέχει όλα τα στοιχεία της theta που περιέχει μεγάλο αριθμό τιμών και κάνει append τα αποτελέσματα στους πίνακες που ορίστηκαν\n",
    "        for th in theta :\n",
    "            d1Values.append( math.log(self.pProd(D1,th)) )\n",
    "            d2Values.append( math.log(self.pProd(D2,th)) )\n",
    "\n",
    "        # δημιουργείται η γραφική παράσταση \n",
    "        plt.plot(theta, d1Values)\n",
    "        plt.plot(theta, d2Values)\n",
    "        plt.show()\n",
    "        \n",
    "\n",
    "    def fit(self, D, Dlabels, theta):\n",
    "\n",
    "        # με τον ίδιο τρόπο με την plotLogs υπολογίζονται οι πίνακες d1Values και d2Values ώστε να βρεθεί η εκτίμηση για κάθε μια απο τις συναρτήσεις ?????????????????????????????????\n",
    "        d1Values = []\n",
    "        d2Values = []\n",
    "\n",
    "        # με τον ίδιο τρόπο που έγινε το encoding των labels γίνεται τώρα το decoding για αυτό το θεώρησα περιττό με τον τρόπο που υλοποίησα τον κώδικα μου\n",
    "        D1 = []\n",
    "        D2 = []\n",
    "\n",
    "        for d in range(len(D)) :\n",
    "            if Dlabels[d] == 0 :\n",
    "                D1.append(D[d])\n",
    "            else :\n",
    "                D2.append(D[d])\n",
    "\n",
    "        for th in theta :\n",
    "            d1Values.append(self.pProd(D1,th))\n",
    "            d2Values.append(self.pProd(D2,th))\n",
    "\n",
    "        # καλείται η max ώστε να βρεθούν οι μέγιστες τιμές και έπειτα η .index για να βρεθούν τα δύο θ, theta1 και theta2\n",
    "        maxD1 = max(d1Values)\n",
    "        maxD2 = max(d2Values)\n",
    "\n",
    "        self.theta1 = theta[d1Values.index(maxD1)]\n",
    "        self.theta2 = theta[d2Values.index(maxD2)]\n",
    "\n",
    "        # τέλος καλείται η plotLogs για να γίνει προφανής η θέση των θ\n",
    "        self.plotLogs(D, Dlabels, theta)\n",
    "\n",
    "\n",
    "    # Η predict και η predictKnown λειτουργούν με τον ίδιο τρόπο όπως εξήγησα και παραπάνω\n",
    "    def predict(self, D, P1, P2) :\n",
    "        # ορίζεται ένας άδειος πίνακας για τις τιμές που θα βρεθούν\n",
    "        g = []\n",
    "        \n",
    "        for x in D :\n",
    "            # για κάθε χ υπολογίζεται η τιμή της συνάρτησης διάκρισης που δίνεται από την εκφώνηση \n",
    "            g.append( math.log(self.p(x, self.theta1)) - math.log(self.p(x, self.theta2)) + math.log(P1) - math.log(P2)) \n",
    "\n",
    "        return g\n",
    "    \n",
    "\n",
    "\n",
    "    def predictKnown(self, D1, D2, P1, P2):\n",
    "        \n",
    "        g1 = []\n",
    "\n",
    "        for x in D1 :\n",
    "            \n",
    "            g1.append( math.log(self.p(x, self.theta1)) - math.log(self.p(x, self.theta2)) + math.log(P1) - math.log(P2)) \n",
    "\n",
    "        g2 = []\n",
    "        for x in D2 :\n",
    "            g2.append( math.log(self.p(x, self.theta1)) - math.log(self.p(x, self.theta2)) + math.log(P1) - math.log(P2)) \n",
    "\n",
    "        return g1, g2\n",
    "    \n"
   ]
  },
  {
   "cell_type": "markdown",
   "metadata": {},
   "source": [
    "Αρχικά ορίζεται ο classifier και καλείται την fit με theta απο -7 έως 6 με 1000 τιμές"
   ]
  },
  {
   "cell_type": "code",
   "execution_count": 43,
   "metadata": {},
   "outputs": [
    {
     "data": {
      "image/png": "[encoded data removed]",
      "text/plain": [
       "<Figure size 640x480 with 1 Axes>"
      ]
     },
     "metadata": {},
     "output_type": "display_data"
    }
   ],
   "source": [
    "theta = np.linspace(-7,6,1000)\n",
    "\n",
    "maxlike = MaxLikeEstimationClassifier()\n",
    "\n",
    "maxlike.fit(D, Dlabels, theta)"
   ]
  },
  {
   "cell_type": "markdown",
   "metadata": {},
   "source": [
    "Για την ταξινόμηση των συνόλων καλείται η predictKnown και τα αποτελέσματα τυπόνονται παρακάτω"
   ]
  },
  {
   "cell_type": "code",
   "execution_count": 44,
   "metadata": {},
   "outputs": [
    {
     "data": {
      "image/png": "[encoded data removed]",
      "text/plain": [
       "<Figure size 640x480 with 1 Axes>"
      ]
     },
     "metadata": {},
     "output_type": "display_data"
    }
   ],
   "source": [
    "y1, y2 = maxlike.predictKnown(D1, D2, 7/12, 5/12)\n",
    "\n",
    "# ορίζουμε μια γραμμή στο 0 ώστε να δούμε καλύτερα την απόδοση του ταξινομητή\n",
    "xLine = np.linspace(-7,6,100)\n",
    "yLine = [0 for x in xLine]\n",
    "plt.plot(xLine,yLine,linestyle=\"dashdot\")\n",
    "\n",
    "# και κάνουμε plot τα σημεία\n",
    "plt.scatter(D1,y1,color=\"blue\")\n",
    "plt.scatter(D2,y2,color=\"orange\")\n",
    "plt.show()"
   ]
  },
  {
   "cell_type": "markdown",
   "metadata": {},
   "source": [
    "Το πρόσιμο της g φαίνεται να είναι επαρκώς αρνητικό για τα αρνητικά x και επαρκώς θετικό για τα θετικά χ ώστοσο το πρόσιμο είναι πολύ κοντά στο 0 για τα σημεία που είναι γύρω απο το 0.  \n",
    "Ο κανόνας απόφασης δεδομένης της συνάρτησης g ορίζεται ώς τα σημεία πάνω από το 0 να ταξινομούνται ως της κλάσης 1 ενώ αυτά με αρνητικό g στην κλάση 2.  \n",
    "Με βάση αυτόν τον κανόνα παρατηρείται οτι τα σημεία με χ πολύ κοντά στο 0 έχουν g πολύ κοντά στο 0 και ένα απο αυτά έχει ταξινομηθεί λανθασμένα."
   ]
  },
  {
   "cell_type": "markdown",
   "metadata": {},
   "source": [
    "### Μέρος Β\n",
    "Με παρόμοιο τρόπο με τον classifier του πρώτου μέρους ορίζεται και ο classifier που χρησιμοποιεί Bayes Estimation.  \n",
    "\n",
    "Ορίζεται μια κλάση η BayesEstimationClassifier η οποία περιέχει της p και pProd όπως ορίστηκαν και παραπάνω.  \n",
    "\n",
    "Η συνάρτηση pTheta υπολογίζει τη συνάρτηση πυκνότητας πιθανότητας της θ.  \n",
    "\n",
    "Η συνάρτηση pThetaDPlot υπολογίζει το p(θ|D) από την θεωρία και παράγει τα απαραίτητα plots.\n",
    "\n",
    "Η συνάρτηση pXD υπολογίζει το p(x|D) από την θεωρία.  \n",
    "\n",
    "Η συναρτήσεις predict και predictKnow υπολογίζουν την συνάρτηση διάκρισης που δίνεται ώστε να γίνει το classification. Η predictKnown υπάρχει για λόγους ευκολίας όπως και στην παραπάνω κλάση.\n",
    "\n"
   ]
  },
  {
   "cell_type": "code",
   "execution_count": 45,
   "metadata": {},
   "outputs": [],
   "source": [
    "class BayesEstimationClassifier :\n",
    "\n",
    "    # initialization of the variables D1 and D2\n",
    "    def __init__(self):\n",
    "        self.D1 = []\n",
    "        self.D2 = []\n",
    "\n",
    "    # Η συνάρτηση αυτή υπολογίζει την τιμή της πυκνότητας πιθανότητας που βρήκε ο συνάδελφος\n",
    "    def p(self, x, theta):\n",
    "        return (1/math.pi)*(1/(1+ (x-theta)*(x-theta) ))\n",
    "\n",
    "    # Η συνάρτηση αυτή υπολογίζει την τιμή της p για ένα διάνυσμα D εκτελώντας τον πολλαπλασιασμό που απαιτείται απο την θεωρία\n",
    "    def pProd(self, D, theta):\n",
    "        product = 1\n",
    "        for x in D :\n",
    "            product = product*self.p(x,theta)\n",
    "        return product\n",
    "\n",
    "    # Η συνάρτηση αυτή υπολογ΄ίζει την τιμή τη συνάρτση τη πυκνότητας πιθανότητας της θ\n",
    "    def pTheta(self, theta): \n",
    "        return 1/( 10*math.pi ) * 1/( 1 + (theta/10)*(theta/10) )\n",
    "    \n",
    "    # Η συνάρτηση αυτή υπολογίζει την τιμή της p(θ|D) όπως παρουσιάζεται και στην σελιδα 14 των διαφανειών\n",
    "    def pThetaDPlot(self, theta, D, Dlabels):\n",
    "\n",
    "        # αρχικοποιούνται οι μεταβλητές στις οποίες θα υπολογιστεί το ολοκλήρωμα, στην δικιά μας περίπτωση το άθροισμα\n",
    "        sum1 = 0\n",
    "        sum2 = 0\n",
    "        # και το dθ \n",
    "        dTheta = theta[1] - theta[0]\n",
    "\n",
    "        # ορίζονται 2 πίνακας που θα αποθηκευτούν οι τιμές ώστε να γίνουν οι γραφικές παραστάσεις που ζητούνται\n",
    "        pThD1 = []\n",
    "        pThD2 = []\n",
    "\n",
    "        # με τον ίδιο τρόπο που έγινε το encoding των labels γίνεται τώρα το decoding για αυτό το θεώρησα περιττό με τον τρόπο που υλοποίησα τον κώδικα μου\n",
    "\n",
    "        for d in range(len(D)) :\n",
    "            if Dlabels[d] == 0 :\n",
    "                self.D1.append(D[d])\n",
    "            else :\n",
    "                self.D2.append(D[d])\n",
    "\n",
    "        # πρώτα υπολογίζεται το ολοκλήρωμα\n",
    "        for th in theta :\n",
    "            sum1 += dTheta*self.pProd(self.D1,th)*self.pTheta(th)\n",
    "            sum2 += dTheta*self.pProd(self.D2,th)*self.pTheta(th)\n",
    "        \n",
    "        # έπειτα υπολογίζονται οι τιμές και αποθηκεύονται στους πίνακες που ορίστηκαν\n",
    "        for th in theta :\n",
    "            pThD1.append(self.pProd(self.D1,th)*self.pTheta(th)/sum1)\n",
    "            pThD2.append(self.pProd(self.D2,th)*self.pTheta(th)/sum2)\n",
    "        \n",
    "        # ορίζεται ένας πίνακας και με list comprehension υπολογίζεται η τιμή της p(θ) για κάθε τιμή θ\n",
    "        pTh = [self.pTheta(th) for th in theta]\n",
    "\n",
    "        plt.plot(theta, pThD1, color=\"blue\")\n",
    "        plt.plot(theta, pThD2, color=\"red\")\n",
    "        plt.plot(theta, pTh, color=\"green\")\n",
    "\n",
    "        plt.show()\n",
    "        \n",
    "\n",
    "\n",
    "    def pXD(self, x, theta, D):\n",
    "\n",
    "        # με παρόμοιο τρόπο με παραπάνω υπολογίζεται το ολοκλήρωμα\n",
    "        dTheta = theta[1] - theta[0]\n",
    "\n",
    "        sum = 0\n",
    "        for th in theta :\n",
    "            sum += dTheta*self.pProd(D,th)*self.pTheta(th)\n",
    "        \n",
    "        # και έπειτα υπολογίζεται το δεύτερο ολοκλήρωμα που βρίσκεται στην σελιδα 15 των διαφανειών\n",
    "        pxD = 0\n",
    "\n",
    "        for th in theta :\n",
    "            pxD += self.p(x,th)*(self.pProd(D,th)*self.pTheta(th)/sum) * dTheta\n",
    "\n",
    "        return pxD\n",
    "\n",
    "    # Η predict και η predictKnown λειτουργούν με τον ίδιο τρόπο όπως εξήγησα και παραπάνω\n",
    "    def predict(self, D, P1, P2, theta) :\n",
    "        # ορίζεται ένας άδειος πίνακας για τις τιμές που θα βρεθούν\n",
    "        h = []\n",
    "\n",
    "        for x in D :\n",
    "            # για κάθε χ υπολογίζεται η τιμή της συνάρτησης διάκρισης που δίνεται από την εκφώνηση \n",
    "            h.append( math.log(self.pXD(x, theta, self.D1)) - math.log(self.p(x, theta, self.D2)) + math.log(P1) - math.log(P2)) \n",
    "\n",
    "        return h\n",
    "\n",
    "   \n",
    "    def predictKnown(self, D1, D2, P1, P2, theta):\n",
    "        \n",
    "        h1 = []\n",
    "\n",
    "        for x in D1 :\n",
    "            h1.append( math.log(self.pXD(x, theta, self.D1)) - math.log(self.pXD(x, theta, self.D2)) + math.log(P1) - math.log(P2)) \n",
    "\n",
    "        h2 = []\n",
    "        for x in D2 :\n",
    "            h2.append( math.log(self.pXD(x, theta, self.D1)) - math.log(self.pXD(x, theta, self.D2)) + math.log(P1) - math.log(P2)) \n",
    "        \n",
    "        return h1,h2"
   ]
  },
  {
   "cell_type": "markdown",
   "metadata": {},
   "source": [
    "Ορίζεται ο classifier και καλείται η pThetaDPlot με τα κατάλληλα ορίσματα ώστε να γίνει η γραφική παράσταση"
   ]
  },
  {
   "cell_type": "code",
   "execution_count": 46,
   "metadata": {},
   "outputs": [
    {
     "data": {
      "image/png": "[encoded data removed]",
      "text/plain": [
       "<Figure size 640x480 with 1 Axes>"
      ]
     },
     "metadata": {},
     "output_type": "display_data"
    }
   ],
   "source": [
    "bayes = BayesEstimationClassifier()\n",
    "\n",
    "# ορίζεται ένας πίνακας με θ με 1000 τιμές απο το -7 έως το 6\n",
    "theta = np.linspace(-7,6,1000)\n",
    "\n",
    "bayes.pThetaDPlot(theta, D, Dlabels)"
   ]
  },
  {
   "cell_type": "markdown",
   "metadata": {},
   "source": [
    "Παρατηρείται ότι η p(θ|D1) (μπλε) και η p(θ|D2) (κόκκινη) παίρνουν πολύ μεγαλύτερες τιμές από την p(θ) (πράσινη).  \n",
    "Επίσης συγκρίνοντας αυτή τη γραφική παράσταση με του πρώτου μέρους παρατηρείται ότι τα peaks ξεχωρίζουν πολύ περισσότερο."
   ]
  },
  {
   "cell_type": "markdown",
   "metadata": {},
   "source": [
    "Τέλος καλούμε την predictKnown για να δούμε τις τιμές της h και την κάνουμε plot."
   ]
  },
  {
   "cell_type": "code",
   "execution_count": 47,
   "metadata": {},
   "outputs": [
    {
     "data": {
      "image/png": "[encoded data removed]",
      "text/plain": [
       "<Figure size 640x480 with 1 Axes>"
      ]
     },
     "metadata": {},
     "output_type": "display_data"
    }
   ],
   "source": [
    "y1, y2 = bayes.predictKnown(D1, D2, 7/12, 5/12, theta)\n",
    "\n",
    "# δημιουργε΄΄ιται μια διακεκομένη γραμμή καθώς περιγράφει τον κανόνα απόφασης\n",
    "xLine = np.linspace(-7,6,100)\n",
    "yLine = [0 for x in xLine]\n",
    "\n",
    "# γίνονται όλα plot\n",
    "plt.plot(xLine,yLine,linestyle=\"dashdot\")\n",
    "\n",
    "plt.scatter(D1,y1,color=\"blue\")\n",
    "plt.scatter(D2,y2,color=\"red\")\n",
    "plt.show()\n"
   ]
  },
  {
   "cell_type": "markdown",
   "metadata": {},
   "source": [
    "Σε αυτή την περίπτωση παρατηρείται πιο καλός διαχωρισμός των σημείων και μια επαρκή απόσταση απο το 0 των σημείων με x κοντα στο 0 που ανήκουν στην κλάση 1 με όλα να είναι ταξινομημένα σωστά.  \n",
    "\n",
    "Συγκριτικά με το αποτέλεσμα του πρώτου μέρους που χρησιμοποιήθηκε εκτίμηση μέγιστης πιθανοφάνειας παρατηρώ ότι στο δεύτερο μέρος οι τιμές κοντά στο 0 έχουν ταξινομηθεί καλύτερα και χωρίς κάποιο σφάλμα. Επίσης παρατηρείται ότι τα 5 σημεία της δεύτερης κλάσης και τα 4 σημεία της πρώτης κλάσης είναι πιο κοντά στο 0 στην δεύτερη ταξινόμηση σε σχέση με την πρώτη, ωστόσο θεωρώ ότι και στις 2 είναι επαρκώς μακρία από το 0 ώστε να μην έχει σημαντική διαφορά το γεγονός αυτό.\n",
    "\n",
    "Η διαφορά στο συγκεκριμένο παράδειγμα οφείλεται στο γεγονός οτι η εκτίμηση μέγιστης πιθανοφάνειας πολώνεται στο μέγιστο και δεν έχει καλη απόδοση αν υπάρχει ένα μικρότερο τοπικό μέγιστο όπως υπάρχει στην περίπτωση μας γύρω από το 0. Επίσης η συνάρτηση πυκνότητας πιθανότητας του θ παρέχει επιπλέον πληροφορία στο σύστημα μας."
   ]
  }
 ],
 "metadata": {
  "kernelspec": {
   "display_name": "Python 3.10.1 64-bit",
   "language": "python",
   "name": "python3"
  },
  "language_info": {
   "codemirror_mode": {
    "name": "ipython",
    "version": 3
   },
   "file_extension": ".py",
   "mimetype": "text/x-python",
   "name": "python",
   "nbconvert_exporter": "python",
   "pygments_lexer": "ipython3",
   "version": "3.10.1"
  },
  "orig_nbformat": 4,
  "vscode": {
   "interpreter": {
    "hash": "26de051ba29f2982a8de78e945f0abaf191376122a1563185a90213a26c5da77"
   }
  }
 },
 "nbformat": 4,
 "nbformat_minor": 2
}
